{
 "cells": [
  {
   "cell_type": "code",
   "execution_count": null,
   "metadata": {},
   "outputs": [],
   "source": [
    "{\n",
    "    \"[STACKS]\",\n",
    "    \"POT\",     # Pot total\n",
    "    \"BB\",      # Unité de mise : Big Blind\n",
    "    \"SB\",      # Unité de mise : Small Blind\n",
    "    \"BTN\",     # Bouton\n",
    "    \"0\", \"1\", \"2\", \"3\", \"4\", \"5\", \"6\", \"7\", \"8\", \"9\", # value to bet\n",
    "    \n",
    "    \"[FLOP]\", \"[TURN]\", \"[RIVER]\",  # Étapes du board\n",
    "    # Cartes (valeurs + couleurs)\n",
    "    \"2s\", \"3s\", \"4s\", \"5s\", \"6s\", \"7s\", \"8s\", \"9s\", \"Ts\", \"Js\", \"Qs\", \"Ks\", \"As\",  # Pique (spade)\n",
    "    \"2h\", \"3h\", \"4h\", \"5h\", \"6h\", \"7h\", \"8h\", \"9h\", \"Th\", \"Jh\", \"Qh\", \"Kh\", \"Ah\",  # Cœur (heart)\n",
    "    \"2d\", \"3d\", \"4d\", \"5d\", \"6d\", \"7d\", \"8d\", \"9d\", \"Td\", \"Jd\", \"Qd\", \"Kd\", \"Ad\",  # Carreau (diamond)\n",
    "    \"2c\", \"3c\", \"4c\", \"5c\", \"6c\", \"7c\", \"8c\", \"9c\", \"Tc\", \"Jc\", \"Qc\", \"Kc\", \"Ac\",  # Trèfle (club)\n",
    "   \"[PREFLOP]\", \"[FLOP]\", \"[TURN]\", \"[RIVER]\",\n",
    "    \"FOLD\",\n",
    "    \"CALL\",\n",
    "    \"CHECK\",\n",
    "    \"BET\",\n",
    "    \"RAISE\",\n",
    "    \"ALLIN\",\n",
    "    \".\", \":\", \"=\", \"\\n\", \" \", \"[\", \"]\"  # Caractères spéciaux\n",
    "}\n"
   ]
  }
 ],
 "metadata": {
  "language_info": {
   "name": "python"
  }
 },
 "nbformat": 4,
 "nbformat_minor": 2
}
