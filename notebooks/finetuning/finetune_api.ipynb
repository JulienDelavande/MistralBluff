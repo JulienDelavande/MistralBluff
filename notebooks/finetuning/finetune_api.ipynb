{
 "cells": [
  {
   "cell_type": "code",
   "execution_count": 10,
   "metadata": {},
   "outputs": [],
   "source": [
    "import pandas as pd\n",
    "import json\n",
    "\n",
    "df = pd.read_json(\"anatole_data_train.json\")\n",
    "df_train=df.sample(frac=0.95,random_state=0)\n",
    "df_eval=df.drop(df_train.index)\n",
    "\n",
    "df_formatted = [\n",
    "    {\n",
    "        \"messages\": [\n",
    "            {\"role\": \"user\", \"content\": row[\"instruction\"]},\n",
    "            {\"role\": \"assistant\", \"content\": row[\"output\"]},\n",
    "        ]\n",
    "    }\n",
    "    for index, row in df_train.iterrows()\n",
    "]\n",
    "\n",
    "df_formatted2 = [\n",
    "    {\n",
    "        \"messages\": [\n",
    "            {\"role\": \"user\", \"content\": row[\"instruction\"]},\n",
    "            {\"role\": \"assistant\", \"content\": row[\"output\"]},\n",
    "        ]\n",
    "    }\n",
    "    for index, row in df_eval.iterrows()\n",
    "]\n",
    "\n",
    "with open(\"data_train.jsonl\", \"w\") as f:\n",
    "    for line in df_formatted:\n",
    "        json.dump(line, f)\n",
    "        f.write(\"\\n\")\n",
    "with open(\"data_eval.jsonl\", \"w\") as f:\n",
    "    for line in df_formatted2:\n",
    "        json.dump(line, f)\n",
    "        f.write(\"\\n\")"
   ]
  },
  {
   "cell_type": "code",
   "execution_count": 29,
   "metadata": {},
   "outputs": [
    {
     "data": {
      "text/plain": [
       "31077"
      ]
     },
     "execution_count": 29,
     "metadata": {},
     "output_type": "execute_result"
    }
   ],
   "source": [
    "len(df)"
   ]
  },
  {
   "cell_type": "code",
   "execution_count": 13,
   "metadata": {},
   "outputs": [],
   "source": [
    "import os\n",
    "from mistralai.client import MistralClient\n",
    "os.environ['MISTRAL_API_KEY']='ymjotzDIdJxKj611QnrKt70VEJsHtyGm'\n",
    "api_key = os.environ.get(\"MISTRAL_API_KEY\")\n",
    "client = MistralClient(api_key=api_key)\n",
    "\n",
    "with open(\"data_train.jsonl\", \"rb\") as f:\n",
    "    data_train = client.files.create(file=(\"data_train.jsonl\", f))\n",
    "with open(\"data_eval.jsonl\", \"rb\") as f:\n",
    "    data_eval = client.files.create(file=(\"data_eval.jsonl\", f))"
   ]
  },
  {
   "cell_type": "code",
   "execution_count": null,
   "metadata": {},
   "outputs": [],
   "source": [
    "from mistralai.models.jobs import TrainingParameters\n",
    "\n",
    "created_jobs = client.jobs.create(\n",
    "    model=\"open-mistral-7b\",\n",
    "    training_files=[data_train.id],\n",
    "    validation_files=[data_eval.id],\n",
    "    hyperparameters=TrainingParameters(\n",
    "        training_steps=10,\n",
    "        learning_rate=0.0001,\n",
    "        )\n",
    ")\n",
    "created_jobs"
   ]
  },
  {
   "cell_type": "code",
   "execution_count": 27,
   "metadata": {},
   "outputs": [
    {
     "name": "stdout",
     "output_type": "stream",
     "text": [
      "object='job.metadata' training_steps=50 train_tokens_per_step=131072 data_tokens=4455124 train_tokens=6553600 epochs=1.471 expected_duration_seconds=300\n"
     ]
    }
   ],
   "source": [
    "from mistralai.models.jobs import TrainingParameters\n",
    "import asyncio\n",
    "\n",
    "dry_run_job = client.jobs.create(\n",
    "    model=\"open-mistral-7b\",\n",
    "    training_files=[data_train.id],\n",
    "    validation_files=[data_eval.id],\n",
    "    hyperparameters=TrainingParameters(\n",
    "        training_steps=150,\n",
    "        learning_rate=0.0001,\n",
    "    ),\n",
    "    dry_run=True,\n",
    ")\n",
    "print(dry_run_job)"
   ]
  },
  {
   "cell_type": "code",
   "execution_count": 18,
   "metadata": {},
   "outputs": [],
   "source": [
    "import asyncio"
   ]
  },
  {
   "cell_type": "code",
   "execution_count": null,
   "metadata": {},
   "outputs": [],
   "source": []
  }
 ],
 "metadata": {
  "kernelspec": {
   "display_name": "env",
   "language": "python",
   "name": "python3"
  },
  "language_info": {
   "codemirror_mode": {
    "name": "ipython",
    "version": 3
   },
   "file_extension": ".py",
   "mimetype": "text/x-python",
   "name": "python",
   "nbconvert_exporter": "python",
   "pygments_lexer": "ipython3",
   "version": "3.10.12"
  }
 },
 "nbformat": 4,
 "nbformat_minor": 2
}
