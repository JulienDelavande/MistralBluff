{
 "cells": [
  {
   "cell_type": "markdown",
   "metadata": {},
   "source": [
    "# Inference of the finituned model using mistral api"
   ]
  },
  {
   "cell_type": "markdown",
   "metadata": {},
   "source": [
    "This notebook aims to show how to use the mistral api to perform inference of the finetuned model. The model is finetuned using the notebook [finetune_api.ipynb](./../finetuning/finetune_api.ipynb"
   ]
  },
  {
   "cell_type": "code",
   "execution_count": 43,
   "metadata": {},
   "outputs": [
    {
     "data": {
      "text/plain": [
       "True"
      ]
     },
     "execution_count": 43,
     "metadata": {},
     "output_type": "execute_result"
    }
   ],
   "source": [
    "from pipelines.poker_dataset.struct_to_format_llm import struct_to_format_llm\n",
    "from mistralai.client import MistralClient\n",
    "from mistralai.models.chat_completion import ChatMessage\n",
    "from dotenv import load_dotenv\n",
    "import os\n",
    "load_dotenv()"
   ]
  },
  {
   "cell_type": "code",
   "execution_count": 44,
   "metadata": {},
   "outputs": [
    {
     "name": "stdout",
     "output_type": "stream",
     "text": [
      "mistral_api_key: ymjotzDIdJxKj611QnrKt70VEJsHtyGm\n",
      "mistral_job_id: 2cad6ef8-34b8-4e20-9431-db9ccccb0f1d\n"
     ]
    }
   ],
   "source": [
    "mistral_api_key = os.getenv(\"MISTRAL_API_KEY\")\n",
    "mistral_job_id = os.getenv(\"MISTRAL_JOB_ID\")\n",
    "print(f\"mistral_api_key: {mistral_api_key}\")\n",
    "print(f\"mistral_job_id: {mistral_job_id}\")"
   ]
  },
  {
   "cell_type": "code",
   "execution_count": 45,
   "metadata": {},
   "outputs": [
    {
     "data": {
      "text/plain": [
       "<mistralai.client.MistralClient at 0x1ae0a1b5180>"
      ]
     },
     "execution_count": 45,
     "metadata": {},
     "output_type": "execute_result"
    }
   ],
   "source": [
    "client = MistralClient(api_key=mistral_api_key)\n",
    "client"
   ]
  },
  {
   "cell_type": "code",
   "execution_count": 46,
   "metadata": {},
   "outputs": [
    {
     "data": {
      "text/plain": [
       "DetailedJob(id='2cad6ef8-34b8-4e20-9431-db9ccccb0f1d', hyperparameters=TrainingParameters(training_steps=180, learning_rate=0.0001), fine_tuned_model='ft:open-mistral-7b:c6d4dfa8:20240626:2cad6ef8', model='open-mistral-7b', status='SUCCESS', job_type='FT', created_at=1719433586, modified_at=1719434336, training_files=['5cd53dbf-4f32-45e6-9b15-0c69b05b2cc6'], validation_files=['ff6b09ef-e7ba-4c1f-8a25-a35681ef8c93'], object='job', integrations=[], events=[Event(name='status-updated', data={'status': 'SUCCESS'}, created_at=1719434336), Event(name='status-updated', data={'status': 'RUNNING'}, created_at=1719433587), Event(name='status-updated', data={'status': 'QUEUED'}, created_at=1719433586)], checkpoints=[Checkpoint(metrics=Metric(train_loss=0.0853, valid_loss=0.094045, valid_mean_token_accuracy=1.067359), step_number=180, created_at=1719434303), Checkpoint(metrics=Metric(train_loss=0.091283, valid_loss=0.094337, valid_mean_token_accuracy=1.067575), step_number=144, created_at=1719434160), Checkpoint(metrics=Metric(train_loss=0.082293, valid_loss=0.10383, valid_mean_token_accuracy=1.074622), step_number=108, created_at=1719434024), Checkpoint(metrics=Metric(train_loss=0.106545, valid_loss=0.119471, valid_mean_token_accuracy=1.086337), step_number=72, created_at=1719433881), Checkpoint(metrics=Metric(train_loss=0.16553, valid_loss=0.143524, valid_mean_token_accuracy=1.1046), step_number=36, created_at=1719433741)], estimated_start_time=None)"
      ]
     },
     "execution_count": 46,
     "metadata": {},
     "output_type": "execute_result"
    }
   ],
   "source": [
    "job = client.jobs.retrieve(mistral_job_id)\n",
    "job"
   ]
  },
  {
   "cell_type": "code",
   "execution_count": 47,
   "metadata": {},
   "outputs": [],
   "source": [
    "hand_struct = {   \n",
    "        \"variant\" : \"NT\",\n",
    "        \"game_id\" : 779459871,\n",
    "        \"hand_nb\" : 0,\n",
    "        \"small_blind\" : 0.25,\n",
    "        \"big_blind\" : 0.50,\n",
    "        \"min_bet\" : 0.25,\n",
    " \n",
    "        \"players\" : [\"n0hvn\", \"tbmfc\", \"naprimer\", \"Log_in\", \"IlxxxlI\", \"gmjohn\", \"MANTISGUYV10\", \"BiGFck\"],\n",
    "        \"starting_stacks\" : [55.50, 28.47, 55.31, 15.15, 20, 28.76, 57.49, 17],\n",
    "        \"players_seats\" : [1, 2, 3, 4, 5, 7, 8, 9],\n",
    " \n",
    "        \"button_seat\" : 2,\n",
    "        \"player_small_blind\" : \"naprimer\",\n",
    "        \"player_big_blind\" : \"Log_in\",\n",
    " \n",
    "        \"player\" : \"IlxxxlI\",\n",
    "        \"cards_player\" : [\"As\", \"3d\"],\n",
    " \n",
    "        \"dealed_cards\" : {\n",
    "                    \"flop\": [],\n",
    "                    \"turn\": [],\n",
    "                    \"river\": []\n",
    "                   },\n",
    " \n",
    " \n",
    "        \"actions\" : {\"pre_flop\" : {\"players\": [],\n",
    "                            \"actions\": [],\n",
    "                            \"value\": []},\n",
    "                \"post_flop\" : {\n",
    "                            \"players\": [],\n",
    "                            \"actions\": [],\n",
    "                            \"value\": []},\n",
    "                \"post_turn\" : {\n",
    "                            \"players\": [],\n",
    "                            \"actions\": [],\n",
    "                            \"value\": []},\n",
    "                \"post_river\" : {\n",
    "                            \"players\": [],\n",
    "                            \"actions\": [],\n",
    "                            \"value\": []\n",
    "                                }\n",
    "               },\n",
    " \n",
    " \n",
    "        \"winners\" : [],\n",
    "        \"finishing_stacks\": [],\n",
    "        \"card_shown_by_players\" : []\n",
    "        }\n",
    "\n",
    "hand_struct_2 = {   \n",
    "        \"variant\" : \"NT\",\n",
    "        \"game_id\" : 779459871,\n",
    "        \"hand_nb\" : 0,\n",
    "        \"small_blind\" : 0.25,\n",
    "        \"big_blind\" : 0.50,\n",
    "        \"min_bet\" : 0.25,\n",
    " \n",
    "        \"players\" : [\"n0hvn\", \"tbmfc\", \"naprimer\", \"Log_in\", \"IlxxxlI\", \"gmjohn\", \"MANTISGUYV10\", \"BiGFck\"],\n",
    "        \"starting_stacks\" : [55.50, 28.47, 55.31, 15.15, 20, 28.76, 57.49, 17],\n",
    "        \"players_seats\" : [1, 2, 3, 4, 5, 7, 8, 9],\n",
    " \n",
    "        \"button_seat\" : 2,\n",
    "        \"player_small_blind\" : \"naprimer\",\n",
    "        \"player_big_blind\" : \"Log_in\",\n",
    " \n",
    "        \"player\" : \"IlxxxlI\",\n",
    "        \"cards_player\" : [\"As\", \"Ad\"],\n",
    " \n",
    "        \"dealed_cards\" : {\n",
    "                    \"flop\": [],\n",
    "                    \"turn\": [],\n",
    "                    \"river\": []\n",
    "                   },\n",
    " \n",
    " \n",
    "        \"actions\" : {\"pre_flop\" : {\"players\": [],\n",
    "                            \"actions\": [],\n",
    "                            \"value\": []},\n",
    "                \"post_flop\" : {\n",
    "                            \"players\": [],\n",
    "                            \"actions\": [],\n",
    "                            \"value\": []},\n",
    "                \"post_turn\" : {\n",
    "                            \"players\": [],\n",
    "                            \"actions\": [],\n",
    "                            \"value\": []},\n",
    "                \"post_river\" : {\n",
    "                            \"players\": [],\n",
    "                            \"actions\": [],\n",
    "                            \"value\": []\n",
    "                                }\n",
    "               },\n",
    " \n",
    " \n",
    "        \"winners\" : [],\n",
    "        \"finishing_stacks\": [],\n",
    "        \"card_shown_by_players\" : []\n",
    "        }"
   ]
  },
  {
   "cell_type": "code",
   "execution_count": 57,
   "metadata": {},
   "outputs": [
    {
     "name": "stdout",
     "output_type": "stream",
     "text": [
      "Game started:\n",
      "Game ID: 779459871 0.25/0.5 (PRR) Kraken (short) - 8 (Hold'em)\n",
      "Seat 2 is the button\n",
      "Seat 1: n0hvn (55.5)\n",
      "Seat 2: tbmfc (28.47)\n",
      "Seat 3: naprimer (55.31)\n",
      "Seat 4: Log_in (15.15)\n",
      "Seat 5: IlxxxlI (20)\n",
      "Seat 7: gmjohn (28.76)\n",
      "Seat 8: MANTISGUYV10 (57.49)\n",
      "Seat 9: BiGFck (17)\n",
      "Player naprimer has small blind (0.25)\n",
      "Player Log_in has big blind (0.5)\n",
      "Player IlxxxlI received card: [As]\n",
      "Player IlxxxlI received card: [3d]\n",
      "Player IlxxxlI \n"
     ]
    }
   ],
   "source": [
    "hand_format_llm = struct_to_format_llm(hand_struct)\n",
    "print(hand_format_llm)"
   ]
  },
  {
   "cell_type": "code",
   "execution_count": 63,
   "metadata": {},
   "outputs": [
    {
     "data": {
      "text/plain": [
       "ChatCompletionResponse(id='48df54520c5046d4917e168ec1e0cfa4', object='chat.completion', created=1719489221, model='ft:open-mistral-7b:c6d4dfa8:20240626:2cad6ef8', choices=[ChatCompletionResponseChoice(index=0, message=ChatMessage(role='assistant', content='folds', name=None, tool_calls=None, tool_call_id=None), finish_reason=<FinishReason.stop: 'stop'>)], usage=UsageInfo(prompt_tokens=244, total_tokens=246, completion_tokens=2))"
      ]
     },
     "execution_count": 63,
     "metadata": {},
     "output_type": "execute_result"
    }
   ],
   "source": [
    "chat_response = client.chat(\n",
    "    model=job.fine_tuned_model,\n",
    "    messages=[ChatMessage(role=\"user\", content=hand_format_llm)],\n",
    ")\n",
    "chat_response"
   ]
  },
  {
   "cell_type": "code",
   "execution_count": 61,
   "metadata": {},
   "outputs": [
    {
     "data": {
      "text/plain": [
       "'folds'"
      ]
     },
     "execution_count": 61,
     "metadata": {},
     "output_type": "execute_result"
    }
   ],
   "source": [
    "chat_response.choices[0].message.content"
   ]
  },
  {
   "cell_type": "code",
   "execution_count": 64,
   "metadata": {},
   "outputs": [
    {
     "data": {
      "text/plain": [
       "UsageInfo(prompt_tokens=244, total_tokens=246, completion_tokens=2)"
      ]
     },
     "execution_count": 64,
     "metadata": {},
     "output_type": "execute_result"
    }
   ],
   "source": [
    "chat_response.usage"
   ]
  }
 ],
 "metadata": {
  "kernelspec": {
   "display_name": "venv",
   "language": "python",
   "name": "python3"
  },
  "language_info": {
   "codemirror_mode": {
    "name": "ipython",
    "version": 3
   },
   "file_extension": ".py",
   "mimetype": "text/x-python",
   "name": "python",
   "nbconvert_exporter": "python",
   "pygments_lexer": "ipython3",
   "version": "3.10.11"
  }
 },
 "nbformat": 4,
 "nbformat_minor": 2
}
