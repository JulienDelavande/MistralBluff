{
 "cells": [
  {
   "cell_type": "code",
   "execution_count": 1,
   "metadata": {},
   "outputs": [],
   "source": [
    "import os\n",
    "import sys"
   ]
  },
  {
   "cell_type": "code",
   "execution_count": 10,
   "metadata": {},
   "outputs": [],
   "source": [
    "DATA_PATH_PLURIBUS = './../../data/poker-hand-histories/data/pluribus/'\n",
    "DATA_PATH_WSOP = './../../data/poker-hand-histories/data/wsop/2023/43/5/'"
   ]
  },
  {
   "cell_type": "code",
   "execution_count": 12,
   "metadata": {},
   "outputs": [
    {
     "name": "stdout",
     "output_type": "stream",
     "text": [
      "Number of hands played by Pluribus: 10000\n",
      "Number of hands played by WSOP: 83\n"
     ]
    }
   ],
   "source": [
    "num_pluribus_hands = 0\n",
    "for filename in os.listdir(DATA_PATH_PLURIBUS):\n",
    "    num_pluribus_hands += len(os.listdir(f\"{DATA_PATH_PLURIBUS}/{filename}\"))\n",
    "print(f\"Number of hands played by Pluribus: {num_pluribus_hands}\")\n",
    "\n",
    "num_wsop_hands = len(os.listdir(DATA_PATH_WSOP))\n",
    "print(f\"Number of hands played by WSOP: {num_wsop_hands}\")"
   ]
  },
  {
   "cell_type": "code",
   "execution_count": 30,
   "metadata": {},
   "outputs": [
    {
     "name": "stdout",
     "output_type": "stream",
     "text": [
      "{'variant': 'NT', 'ante_trimming_status': True, 'antes': [0, 0, 0, 0, 0, 0], 'blinds_or_straddles': [50, 100, 0, 0, 0, 0], 'min_bet': 100, 'starting_stacks': [10000, 10000, 10000, 10000, 10000, 10000], 'actions': ['d dh p1 3c9s', 'd dh p2 6d5s', 'd dh p3 9dTs', 'd dh p4 2sQs', 'd dh p5 AdKd', 'd dh p6 7cTc', 'p3 f', 'p4 f', 'p5 cbr 225', 'p6 f', 'p1 f', 'p2 f'], 'hand': 0, 'players': ['MrWhite', 'Gogo', 'Budd', 'Eddie', 'Bill', 'Pluribus'], 'finishing_stacks': [9950, 9900, 10000, 10000, 10150, 10000]}\n"
     ]
    }
   ],
   "source": [
    "hand = {}\n",
    "with open(f\"{DATA_PATH_PLURIBUS}/30/0.phh\", 'r') as f:\n",
    "    for line in f:\n",
    "        line_split = line.split(' = ')\n",
    "        key = line_split[0]\n",
    "        value = line_split[1].strip().replace(\"'\", \"\")\n",
    "        \n",
    "        # Boolean\n",
    "        if value == 'true' or value == 'false':\n",
    "            value = bool(value)\n",
    "            \n",
    "        # Integers\n",
    "        elif value.isdigit():\n",
    "            value = int(value)\n",
    "            \n",
    "        # List\n",
    "        elif value.startswith('['):\n",
    "            value = value[1:-1].split(', ')\n",
    "            if value[0].isdigit():\n",
    "                value = [int(v) for v in value]\n",
    "        \n",
    "        hand[key] = value\n",
    "        \n",
    "print(hand)"
   ]
  },
  {
   "cell_type": "code",
   "execution_count": 23,
   "metadata": {},
   "outputs": [],
   "source": [
    "def parse_hand(hand_path):\n",
    "    hand = {}\n",
    "    with open(hand_path, 'r') as f:\n",
    "        for line in f:\n",
    "            line_split = line.split(' = ')\n",
    "            key = line_split[0]\n",
    "            value = line_split[1].strip().replace(\"'\", \"\")\n",
    "            \n",
    "            # Boolean\n",
    "            if value == 'true' or value == 'false':\n",
    "                value = bool(value)\n",
    "                \n",
    "            # Integers\n",
    "            elif value.isdigit():\n",
    "                value = int(value)\n",
    "                \n",
    "            # List\n",
    "            elif value.startswith('['):\n",
    "                value = value[1:-1].split(', ')\n",
    "                if value[0].isdigit():\n",
    "                    value = [int(v) for v in value]\n",
    "            \n",
    "            hand[key] = value\n",
    "            \n",
    "    return hand\n",
    "\n",
    "        "
   ]
  },
  {
   "cell_type": "code",
   "execution_count": 32,
   "metadata": {},
   "outputs": [
    {
     "data": {
      "text/plain": [
       "['d dh p1 3c9s',\n",
       " 'd dh p2 6d5s',\n",
       " 'd dh p3 9dTs',\n",
       " 'd dh p4 2sQs',\n",
       " 'd dh p5 AdKd',\n",
       " 'd dh p6 7cTc',\n",
       " 'p3 f',\n",
       " 'p4 f',\n",
       " 'p5 cbr 225',\n",
       " 'p6 f',\n",
       " 'p1 f',\n",
       " 'p2 f']"
      ]
     },
     "execution_count": 32,
     "metadata": {},
     "output_type": "execute_result"
    }
   ],
   "source": [
    "hand['actions'][:]"
   ]
  },
  {
   "cell_type": "code",
   "execution_count": 34,
   "metadata": {},
   "outputs": [
    {
     "name": "stdout",
     "output_type": "stream",
     "text": [
      "['d dh p1 ****', 'd dh p2 ****', 'd dh p3 ****', 'd dh p4 2sQs', 'd dh p5 ****', 'd dh p6 ****', 'p3 f', 'p4 f', 'p5 cbr 225', 'p6 f', 'p1 f', 'p2 f']\n"
     ]
    }
   ],
   "source": [
    "hand_actions = hand['actions'][:]\n",
    "player = 'p4'\n",
    "new_actions = []\n",
    "for action in hand_actions:\n",
    "    if not player in action and 'd dh' in action and 'p' in action:\n",
    "        new_action = action.split(' ')\n",
    "        new_action[-1] = '****'\n",
    "        new_action = ' '.join(new_action)\n",
    "        new_actions.append(new_action)\n",
    "    else:\n",
    "        new_actions.append(action)\n",
    "        \n",
    "print(new_actions)"
   ]
  },
  {
   "cell_type": "code",
   "execution_count": 35,
   "metadata": {},
   "outputs": [
    {
     "data": {
      "text/plain": [
       "['d dh p1 3c9s',\n",
       " 'd dh p2 6d5s',\n",
       " 'd dh p3 9dTs',\n",
       " 'd dh p4 2sQs',\n",
       " 'd dh p5 AdKd',\n",
       " 'd dh p6 7cTc',\n",
       " 'p3 f',\n",
       " 'p4 f',\n",
       " 'p5 cbr 225',\n",
       " 'p6 f',\n",
       " 'p1 f',\n",
       " 'p2 f']"
      ]
     },
     "execution_count": 35,
     "metadata": {},
     "output_type": "execute_result"
    }
   ],
   "source": [
    "hand['actions']"
   ]
  },
  {
   "cell_type": "code",
   "execution_count": 37,
   "metadata": {},
   "outputs": [],
   "source": [
    "def anonymize_hand(hand, player):\n",
    "    hand = hand.copy()\n",
    "    hand_actions = hand['actions'][:]\n",
    "    new_actions = []\n",
    "    for action in hand_actions:\n",
    "        if not player in action and 'd dh' in action and 'p' in action:\n",
    "            new_action = action.split(' ')\n",
    "            new_action[-1] = '****'\n",
    "            new_action = ' '.join(new_action)\n",
    "            new_actions.append(new_action)\n",
    "        else:\n",
    "            new_actions.append(action)\n",
    "            \n",
    "    hand['actions'] = new_actions\n",
    "    return hand"
   ]
  },
  {
   "cell_type": "code",
   "execution_count": 49,
   "metadata": {},
   "outputs": [
    {
     "name": "stdout",
     "output_type": "stream",
     "text": [
      "{'variant': 'NT', 'ante_trimming_status': True, 'antes': [0, 0, 0, 0, 0, 0], 'blinds_or_straddles': [50, 100, 0, 0, 0, 0], 'min_bet': 100, 'starting_stacks': [10000, 10000, 10000, 10000, 10000, 10000], 'actions': ['d dh p1 ****', 'd dh p2 ****', 'd dh p3 ****', 'd dh p4 ****', 'd dh p5 ****', 'd dh p6 5h5d', 'p3 cbr 200', 'p4 f', 'p5 f', 'p6'], 'hand': 27, 'players': ['Eddie', 'Bill', 'Pluribus', 'MrWhite', 'Gogo', 'Budd'], 'finishing_stacks': [9950, 9800, 0, 10000, 10000, 20250]}\n",
      "{'variant': 'NT', 'ante_trimming_status': True, 'antes': [0, 0, 0, 0, 0, 0], 'blinds_or_straddles': [50, 100, 0, 0, 0, 0], 'min_bet': 100, 'starting_stacks': [10000, 10000, 10000, 10000, 10000, 10000], 'actions': ['d dh p1 ****', 'd dh p2 ****', 'd dh p3 ****', 'd dh p4 ****', 'd dh p5 ****', 'd dh p6 5h5d', 'p3 cbr 200', 'p4 f', 'p5 f', 'p6 cc', 'p1 f', 'p2 cc', 'd db 3h7s5c', 'p2 cc', 'p3 cbr 650', 'p6'], 'hand': 27, 'players': ['Eddie', 'Bill', 'Pluribus', 'MrWhite', 'Gogo', 'Budd'], 'finishing_stacks': [9950, 9800, 0, 10000, 10000, 20250]}\n",
      "{'variant': 'NT', 'ante_trimming_status': True, 'antes': [0, 0, 0, 0, 0, 0], 'blinds_or_straddles': [50, 100, 0, 0, 0, 0], 'min_bet': 100, 'starting_stacks': [10000, 10000, 10000, 10000, 10000, 10000], 'actions': ['d dh p1 ****', 'd dh p2 ****', 'd dh p3 ****', 'd dh p4 ****', 'd dh p5 ****', 'd dh p6 5h5d', 'p3 cbr 200', 'p4 f', 'p5 f', 'p6 cc', 'p1 f', 'p2 cc', 'd db 3h7s5c', 'p2 cc', 'p3 cbr 650', 'p6 cc', 'p2 f', 'd db Qs', 'p3 cc', 'p6'], 'hand': 27, 'players': ['Eddie', 'Bill', 'Pluribus', 'MrWhite', 'Gogo', 'Budd'], 'finishing_stacks': [9950, 9800, 0, 10000, 10000, 20250]}\n",
      "{'variant': 'NT', 'ante_trimming_status': True, 'antes': [0, 0, 0, 0, 0, 0], 'blinds_or_straddles': [50, 100, 0, 0, 0, 0], 'min_bet': 100, 'starting_stacks': [10000, 10000, 10000, 10000, 10000, 10000], 'actions': ['d dh p1 ****', 'd dh p2 ****', 'd dh p3 ****', 'd dh p4 ****', 'd dh p5 ****', 'd dh p6 5h5d', 'p3 cbr 200', 'p4 f', 'p5 f', 'p6 cc', 'p1 f', 'p2 cc', 'd db 3h7s5c', 'p2 cc', 'p3 cbr 650', 'p6 cc', 'p2 f', 'd db Qs', 'p3 cc', 'p6 cbr 975', 'p3 cbr 2925', 'p6'], 'hand': 27, 'players': ['Eddie', 'Bill', 'Pluribus', 'MrWhite', 'Gogo', 'Budd'], 'finishing_stacks': [9950, 9800, 0, 10000, 10000, 20250]}\n",
      "{'variant': 'NT', 'ante_trimming_status': True, 'antes': [0, 0, 0, 0, 0, 0], 'blinds_or_straddles': [50, 100, 0, 0, 0, 0], 'min_bet': 100, 'starting_stacks': [10000, 10000, 10000, 10000, 10000, 10000], 'actions': ['d dh p1 ****', 'd dh p2 ****', 'd dh p3 ****', 'd dh p4 ****', 'd dh p5 ****', 'd dh p6 5h5d', 'p3 cbr 200', 'p4 f', 'p5 f', 'p6 cc', 'p1 f', 'p2 cc', 'd db 3h7s5c', 'p2 cc', 'p3 cbr 650', 'p6 cc', 'p2 f', 'd db Qs', 'p3 cc', 'p6 cbr 975', 'p3 cbr 2925', 'p6 cc', 'd db 6c', 'p3 cbr 6225', 'p6'], 'hand': 27, 'players': ['Eddie', 'Bill', 'Pluribus', 'MrWhite', 'Gogo', 'Budd'], 'finishing_stacks': [9950, 9800, 0, 10000, 10000, 20250]}\n",
      "{'variant': 'NT', 'ante_trimming_status': True, 'antes': [0, 0, 0, 0, 0, 0], 'blinds_or_straddles': [50, 100, 0, 0, 0, 0], 'min_bet': 100, 'starting_stacks': [10000, 10000, 10000, 10000, 10000, 10000], 'actions': ['d dh p1 ****', 'd dh p2 ****', 'd dh p3 ****', 'd dh p4 ****', 'd dh p5 ****', 'd dh p6 5h5d', 'p3 cbr 200', 'p4 f', 'p5 f', 'p6 cc', 'p1 f', 'p2 cc', 'd db 3h7s5c', 'p2 cc', 'p3 cbr 650', 'p6 cc', 'p2 f', 'd db Qs', 'p3 cc', 'p6 cbr 975', 'p3 cbr 2925', 'p6 cc', 'd db 6c', 'p3 cbr 6225', 'p6 cc', 'p3 sm 8sAs', 'p6'], 'hand': 27, 'players': ['Eddie', 'Bill', 'Pluribus', 'MrWhite', 'Gogo', 'Budd'], 'finishing_stacks': [9950, 9800, 0, 10000, 10000, 20250]}\n"
     ]
    }
   ],
   "source": [
    "hand = parse_hand(f\"{DATA_PATH_PLURIBUS}/30/27.phh\")\n",
    "player = 'p6'\n",
    "hand = anonymize_hand(hand, player)\n",
    "hands = []\n",
    "hand_actions = hand['actions'][:]\n",
    "new_actions = []\n",
    "for action in hand_actions:\n",
    "    if player in action and not 'd dh' in action:\n",
    "        new_action = action.split(' ')\n",
    "        new_actions.append(new_action[0])\n",
    "        hand_copy = hand.copy()\n",
    "        hand_copy['actions'] = new_actions.copy()\n",
    "        #print(hand_copy)\n",
    "        hands.append(hand_copy)\n",
    "        new_actions[-1] = action\n",
    "    else:\n",
    "        new_actions.append(action)\n",
    "        \n",
    "for hand in hands:\n",
    "    print(hand)"
   ]
  },
  {
   "cell_type": "code",
   "execution_count": null,
   "metadata": {},
   "outputs": [],
   "source": [
    "def split_hand_by_actions(hand, player):\n",
    "    hand = hand.copy()\n",
    "    hand_actions = hand['actions'][:]\n",
    "    hands = []\n",
    "    new_actions = []\n",
    "    for action in hand_actions:\n",
    "        if player in action and not 'd dh' in action:\n",
    "            new_action = action.split(' ')\n",
    "            new_actions.append(new_action[0])\n",
    "            hand_copy = hand.copy()\n",
    "            hand_copy['actions'] = new_actions.copy()\n",
    "            hands.append(hand_copy)\n",
    "            new_actions[-1] = action\n",
    "        else:\n",
    "            new_actions.append(action)\n",
    "        \n",
    "    return hands\n"
   ]
  },
  {
   "cell_type": "code",
   "execution_count": 43,
   "metadata": {},
   "outputs": [
    {
     "data": {
      "text/plain": [
       "{'variant': 'NT',\n",
       " 'ante_trimming_status': True,\n",
       " 'antes': [0, 0, 0, 0, 0, 0],\n",
       " 'blinds_or_straddles': [50, 100, 0, 0, 0, 0],\n",
       " 'min_bet': 100,\n",
       " 'starting_stacks': [10000, 10000, 10000, 10000, 10000, 10000],\n",
       " 'actions': ['d dh p1 3c9s',\n",
       "  'd dh p2 6d5s',\n",
       "  'd dh p3 9dTs',\n",
       "  'd dh p4 2sQs',\n",
       "  'd dh p5 AdKd',\n",
       "  'd dh p6 7cTc',\n",
       "  'p3 f',\n",
       "  'p4 f',\n",
       "  'p5 cbr 225',\n",
       "  'p6 f',\n",
       "  'p1 f',\n",
       "  'p2 f'],\n",
       " 'hand': 0,\n",
       " 'players': ['MrWhite', 'Gogo', 'Budd', 'Eddie', 'Bill', 'Pluribus'],\n",
       " 'finishing_stacks': [9950, 9900, 10000, 10000, 10150, 10000]}"
      ]
     },
     "execution_count": 43,
     "metadata": {},
     "output_type": "execute_result"
    }
   ],
   "source": [
    "hand = parse_hand(f\"{DATA_PATH_PLURIBUS}/30/0.phh\")\n",
    "hand"
   ]
  },
  {
   "cell_type": "code",
   "execution_count": 24,
   "metadata": {},
   "outputs": [],
   "source": [
    "pluribus_hands = {}\n",
    "for filename in os.listdir(DATA_PATH_PLURIBUS):\n",
    "    pluribus_hands[filename] = {}\n",
    "    for file_hand in os.listdir(f\"{DATA_PATH_PLURIBUS}/{filename}\"):\n",
    "        hand = parse_hand(f\"{DATA_PATH_PLURIBUS}/{filename}/{file_hand}\")\n",
    "        pluribus_hands[filename][file_hand] = hand\n",
    "        "
   ]
  },
  {
   "cell_type": "code",
   "execution_count": 26,
   "metadata": {},
   "outputs": [
    {
     "name": "stdout",
     "output_type": "stream",
     "text": [
      "Average number of players: 6.0\n",
      "Average number of actions: 16.6698\n",
      "Max number of players: 6\n",
      "Max number of actions: 32\n",
      "Min number of players: 6\n",
      "Min number of actions: 11\n"
     ]
    }
   ],
   "source": [
    "num_players = []\n",
    "num_actions = []\n",
    "\n",
    "for filename in pluribus_hands:\n",
    "    for hand in pluribus_hands[filename]:\n",
    "        num_players.append(len(pluribus_hands[filename][hand]['players']))\n",
    "        num_actions.append(len(pluribus_hands[filename][hand]['actions']))\n",
    "\n",
    "print(f\"Average number of players: {sum(num_players) / len(num_players)}\")\n",
    "print(f\"Average number of actions: {sum(num_actions) / len(num_actions)}\")\n",
    "\n",
    "print(f\"Max number of players: {max(num_players)}\")\n",
    "print(f\"Max number of actions: {max(num_actions)}\")\n",
    "\n",
    "print(f\"Min number of players: {min(num_players)}\")\n",
    "print(f\"Min number of actions: {min(num_actions)}\")\n",
    "\n"
   ]
  },
  {
   "cell_type": "code",
   "execution_count": null,
   "metadata": {},
   "outputs": [],
   "source": [
    "ESTIMATED_TOKENS_PER_HAND = 319\n"
   ]
  },
  {
   "cell_type": "code",
   "execution_count": 21,
   "metadata": {},
   "outputs": [
    {
     "data": {
      "text/plain": [
       "3200000"
      ]
     },
     "execution_count": 21,
     "metadata": {},
     "output_type": "execute_result"
    }
   ],
   "source": [
    "320* 10_000"
   ]
  }
 ],
 "metadata": {
  "kernelspec": {
   "display_name": "venv",
   "language": "python",
   "name": "python3"
  },
  "language_info": {
   "codemirror_mode": {
    "name": "ipython",
    "version": 3
   },
   "file_extension": ".py",
   "mimetype": "text/x-python",
   "name": "python",
   "nbconvert_exporter": "python",
   "pygments_lexer": "ipython3",
   "version": "3.12.1"
  }
 },
 "nbformat": 4,
 "nbformat_minor": 2
}
