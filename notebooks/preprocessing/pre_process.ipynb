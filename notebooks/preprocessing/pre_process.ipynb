{
 "cells": [
  {
   "cell_type": "markdown",
   "metadata": {},
   "source": [
    "# Processing pipeline\n",
    "\n",
    "The aim of this notebook is to define the pipeline to process raw data to data in the format for the api."
   ]
  },
  {
   "cell_type": "markdown",
   "metadata": {},
   "source": [
    "## 0. Prerequisites\n",
    "Import librairies and define constants."
   ]
  },
  {
   "cell_type": "code",
   "execution_count": null,
   "metadata": {},
   "outputs": [],
   "source": [
    "import os\n",
    "import re\n",
    "import random\n",
    "from pathlib import Path"
   ]
  },
  {
   "cell_type": "code",
   "execution_count": null,
   "metadata": {},
   "outputs": [],
   "source": [
    "ROOT_DIR = Path('./../../').resolve()\n",
    "RAW_DATA_DIR = ROOT_DIR / 'data/1_raw_data'\n",
    "CLEANED_DATA_DIR = ROOT_DIR / 'data/2_cleaned_data'\n",
    "PREPARED_DATA_DIR = ROOT_DIR / 'data/3_prepared_data'\n",
    "FILE_NAME_1 = 'Export Holdem Manager 2.0 12292016131233.txt'\n",
    "FILE_NAME_2 = 'Export Holdem Manager 2.0 12302016144830.txt'\n",
    "OUTPUT_FILE_NAME_TRAIN = 'anatole_data_train.json'\n",
    "OUTPUT_FILE_NAME_TEST = 'anatole_data_test.json'"
   ]
  },
  {
   "cell_type": "markdown",
   "metadata": {},
   "source": [
    "## 1. Define and run the pipeline functions\n",
    "Define the functions to process the data. The functions are also defined in the pipelines lib of this project for reusability."
   ]
  },
  {
   "cell_type": "markdown",
   "metadata": {},
   "source": [
    "### 1.1 Cleaning data\n",
    "\n",
    "The first step consits of taking the raw files containing the data and cleaning them. The cleaning process consists of:\n",
    "- Separate hands (There are two .txt files with hands separate by a blank line)\n",
    "- Remove some infomations in the hand that are not relevant\n",
    "- Apply the process and generate new files with the cleaned data"
   ]
  },
  {
   "cell_type": "code",
   "execution_count": 46,
   "metadata": {},
   "outputs": [
    {
     "name": "stdout",
     "output_type": "stream",
     "text": [
      "Processed Export Holdem Manager 2.0 12292016131233.txt\n",
      "Processed Export Holdem Manager 2.0 12302016144830.txt\n"
     ]
    }
   ],
   "source": [
    "def separate_games(file_content):\n",
    "    games = file_content.split('Game started')\n",
    "    return ['Game started' + game for game in games if game.strip()]\n",
    "\n",
    "def remove_game_started_at(game):\n",
    "    return re.sub(r'Game started at: .*', 'Game started', game)\n",
    "\n",
    "def remove_muck(game):\n",
    "    game_lines = game.split('\\n')\n",
    "    return '\\n'.join([line for line in game_lines if 'received a card' not in line])\n",
    "\n",
    "def check_IlxxxlI_result(game):\n",
    "    for line in game.split('\\n'):\n",
    "        if line.startswith('Player IlxxxlI'):\n",
    "            if 'Wins:' in line : # Si IlxxxlI n'a rien fait c'est Wins:0\n",
    "                return 'win'\n",
    "            elif 'Loses:' in line and float(line[:-1].split('Loses:')[1]) >= 0:\n",
    "                return 'lose'\n",
    "      \n",
    "\n",
    "def remove_received_card_and_muck_lines(game):\n",
    "    game_lines = game.split('\\n')\n",
    "    return '\\n'.join([line for line in game_lines if 'received a card' not in line and 'mucks' not in line and 'timed' not in line])\n",
    "\n",
    "def remove_summary(game):\n",
    "    lines = game.split('\\n')\n",
    "    summary_start = None\n",
    "    for i, line in enumerate(lines):\n",
    "        if line.strip() == '------ Summary ------':\n",
    "            summary_start = i\n",
    "            break\n",
    "    \n",
    "    if summary_start is not None:\n",
    "        return '\\n'.join(lines[:summary_start])\n",
    "\n",
    "def process_file(input_file, output_file):\n",
    "    with open(input_file, 'r') as infile, open(output_file, 'w') as outfile:\n",
    "        file_content = infile.read()\n",
    "        games = separate_games(file_content)\n",
    "        \n",
    "        for game in games:\n",
    "            game = remove_game_started_at(game)\n",
    "            game = remove_received_card_and_muck_lines(game)\n",
    "            \n",
    "            result = check_IlxxxlI_result(game)\n",
    "            \n",
    "            if result == 'win' or (result == 'lose' and random.random() < 0.5):\n",
    "                game = remove_summary(game)\n",
    "                outfile.write(game + '\\n\\n')\n",
    "            \n",
    "\n",
    "def process_directory(input_dir, output_dir):\n",
    "    if not os.path.exists(output_dir):\n",
    "        os.makedirs(output_dir)\n",
    "\n",
    "    for filename in os.listdir(input_dir):\n",
    "        if filename.endswith('.txt'):\n",
    "            input_path = os.path.join(input_dir, filename)\n",
    "            output_path = os.path.join(output_dir, filename)\n",
    "            process_file(input_path, output_path)\n",
    "            print(f\"Processed {filename}\")\n",
    "\n",
    "input_directory = RAW_DATA_DIR\n",
    "output_directory = CLEANED_DATA_DIR\n",
    "process_directory(input_directory, output_directory)"
   ]
  },
  {
   "cell_type": "markdown",
   "metadata": {},
   "source": [
    "### 1.2 Transform data into api format"
   ]
  },
  {
   "cell_type": "code",
   "execution_count": 26,
   "metadata": {},
   "outputs": [],
   "source": [
    "import pandas as pd\n",
    "import re\n",
    "\n",
    "def process_game_for_training(game):\n",
    "    lines = game.split('\\n')\n",
    "    data = []\n",
    "    context = []\n",
    "\n",
    "    for line in lines:\n",
    "        line = line.strip()  \n",
    "        if not line:  # Skip lines vide\n",
    "            continue\n",
    "        \n",
    "        if line.startswith('Player IlxxxlI'):\n",
    "            if ('received card:' in line) or ('has small blind' in line) or ('has big blind' in line):\n",
    "                context.append(line)\n",
    "            else:\n",
    "                action = line.split('Player IlxxxlI ')[1]\n",
    "                if context:  # Only add data point if there's context\n",
    "                    data.append({'instruction': '\\n'.join(context), 'output': action})\n",
    "                context.append(line)  # Add this action to context for future actions\n",
    "        else:\n",
    "            context.append(line)\n",
    "\n",
    "    return data\n",
    "\n",
    "def create_training_dataset(file_path):\n",
    "    with open(file_path, 'r') as file:\n",
    "        content = file.read()\n",
    "\n",
    "    games = re.split(r'Game started\\n', content)\n",
    "    all_data = []\n",
    "\n",
    "    for game in games:\n",
    "        if game.strip():  # Ignore empty games\n",
    "            all_data.extend(process_game_for_training(game))\n",
    "\n",
    "    df = pd.DataFrame(all_data)\n",
    "    return df\n"
   ]
  },
  {
   "cell_type": "code",
   "execution_count": 27,
   "metadata": {},
   "outputs": [],
   "source": [
    "file_path1 = CLEANED_DATA_DIR / FILE_NAME_1\n",
    "file_path2 = CLEANED_DATA_DIR / FILE_NAME_2\n",
    "\n",
    "# Create datasets from both files\n",
    "training_df1 = create_training_dataset(file_path1)\n",
    "training_df2 = create_training_dataset(file_path2)\n",
    "\n",
    "# Merge the two datasets\n",
    "merged_df = pd.concat([training_df1, training_df2], ignore_index=True)\n",
    "merged_df.instruction = merged_df.instruction + \"\\nPlayer IlxxxlI\"\n",
    "merged_df['input']=\"\"\n",
    "merged_df = merged_df[['instruction', 'input', 'output']]"
   ]
  },
  {
   "cell_type": "code",
   "execution_count": 30,
   "metadata": {},
   "outputs": [],
   "source": [
    "from sklearn.model_selection import train_test_split\n",
    "import pandas as pd\n",
    "\n",
    "# Split the data into training and test sets and save them\n",
    "train, test = train_test_split(merged_df, test_size=0.1, random_state=0)\n",
    "train.to_json(PREPARED_DATA_DIR / OUTPUT_FILE_NAME_TRAIN, orient='records', lines=True)\n",
    "test.to_json(PREPARED_DATA_DIR / OUTPUT_FILE_NAME_TEST, orient='records', lines=True)"
   ]
  },
  {
   "cell_type": "markdown",
   "metadata": {},
   "source": [
    "## 2. Analyze the data"
   ]
  },
  {
   "cell_type": "code",
   "execution_count": 39,
   "metadata": {},
   "outputs": [
    {
     "name": "stdout",
     "output_type": "stream",
     "text": [
      "proportion de folds: 0.8786018360313921\n",
      "proportion de folds: 0.7029046364136573\n"
     ]
    }
   ],
   "source": [
    "import numpy as np\n",
    "merged_df.head()\n",
    "folds_row = merged_df[merged_df['output']=='folds']\n",
    "print('proportion de folds:', len(folds_row)/len(merged_df))\n",
    "nb_remove= len(folds_row)//5\n",
    "indicies_to_remove=np.random.choice(folds_row.index, size=nb_remove, replace=False)\n",
    "new_df = merged_df.drop(indicies_to_remove) #dataframe avec nombre de fold réduit\n",
    "folds_row = new_df[new_df['output']=='folds']\n",
    "print('proportion de folds nouveaux dataset:', len(folds_row)/len(merged_df))"
   ]
  },
  {
   "cell_type": "code",
   "execution_count": 10,
   "metadata": {},
   "outputs": [
    {
     "data": {
      "text/plain": [
       "{'allin ()',\n",
       " 'allin (.)',\n",
       " 'bets ()',\n",
       " 'bets (.)',\n",
       " 'calls ()',\n",
       " 'calls (.)',\n",
       " 'caps ()',\n",
       " 'caps (.)',\n",
       " 'checks',\n",
       " 'folds',\n",
       " 'raises ()',\n",
       " 'raises (.)'}"
      ]
     },
     "execution_count": 10,
     "metadata": {},
     "output_type": "execute_result"
    }
   ],
   "source": [
    "set([re.sub(r'\\d','',action) for action in list(merged_df.output.value_counts().index)])\n",
    "#Compte le nbr d'action unique"
   ]
  },
  {
   "cell_type": "code",
   "execution_count": 40,
   "metadata": {},
   "outputs": [
    {
     "data": {
      "text/html": [
       "<div>\n",
       "<style scoped>\n",
       "    .dataframe tbody tr th:only-of-type {\n",
       "        vertical-align: middle;\n",
       "    }\n",
       "\n",
       "    .dataframe tbody tr th {\n",
       "        vertical-align: top;\n",
       "    }\n",
       "\n",
       "    .dataframe thead th {\n",
       "        text-align: right;\n",
       "    }\n",
       "</style>\n",
       "<table border=\"1\" class=\"dataframe\">\n",
       "  <thead>\n",
       "    <tr style=\"text-align: right;\">\n",
       "      <th></th>\n",
       "      <th>instruction</th>\n",
       "      <th>input</th>\n",
       "      <th>output</th>\n",
       "    </tr>\n",
       "  </thead>\n",
       "  <tbody>\n",
       "    <tr>\n",
       "      <th>0</th>\n",
       "      <td>Game ID: 787027613 0.50/1 (PRR) Karkadann (Hol...</td>\n",
       "      <td></td>\n",
       "      <td>folds</td>\n",
       "    </tr>\n",
       "    <tr>\n",
       "      <th>1</th>\n",
       "      <td>Game ID: 787027929 0.50/1 (PRR) Karkadann (Hol...</td>\n",
       "      <td></td>\n",
       "      <td>folds</td>\n",
       "    </tr>\n",
       "    <tr>\n",
       "      <th>2</th>\n",
       "      <td>Game ID: 787027464 0.50/1 (PRR) Karkadann (Hol...</td>\n",
       "      <td></td>\n",
       "      <td>folds</td>\n",
       "    </tr>\n",
       "    <tr>\n",
       "      <th>3</th>\n",
       "      <td>Game ID: 787027410 0.50/1 (PRR) Kraken - 10 (H...</td>\n",
       "      <td></td>\n",
       "      <td>folds</td>\n",
       "    </tr>\n",
       "    <tr>\n",
       "      <th>4</th>\n",
       "      <td>Game ID: 787027157 0.50/1 (PRR) Kraken - 10 (H...</td>\n",
       "      <td></td>\n",
       "      <td>folds</td>\n",
       "    </tr>\n",
       "  </tbody>\n",
       "</table>\n",
       "</div>"
      ],
      "text/plain": [
       "                                         instruction input output\n",
       "0  Game ID: 787027613 0.50/1 (PRR) Karkadann (Hol...        folds\n",
       "1  Game ID: 787027929 0.50/1 (PRR) Karkadann (Hol...        folds\n",
       "2  Game ID: 787027464 0.50/1 (PRR) Karkadann (Hol...        folds\n",
       "3  Game ID: 787027410 0.50/1 (PRR) Kraken - 10 (H...        folds\n",
       "4  Game ID: 787027157 0.50/1 (PRR) Kraken - 10 (H...        folds"
      ]
     },
     "execution_count": 40,
     "metadata": {},
     "output_type": "execute_result"
    }
   ],
   "source": [
    "merged_df.head()"
   ]
  },
  {
   "cell_type": "code",
   "execution_count": 41,
   "metadata": {},
   "outputs": [],
   "source": []
  },
  {
   "cell_type": "code",
   "execution_count": 47,
   "metadata": {},
   "outputs": [],
   "source": [
    "from transformers import AutoTokenizer\n",
    "\n",
    "tokenizer = AutoTokenizer.from_pretrained('mistralai/Mistral-7b-v0.1')\n",
    "with open('/home/avakili/Mistralbluff/data/anatole_data_train.json', 'r') as file:\n",
    "    text = file.read()\n",
    "tokens = tokenizer.tokenize(text)\n",
    "\n",
    "\n"
   ]
  }
 ],
 "metadata": {
  "interpreter": {
   "hash": "3dbe04c315dc24a506ed5629daf86b451f96d7ba3cfffb13997a818bebceb567"
  },
  "kernelspec": {
   "display_name": "Python 3.10.12 64-bit ('ftvenv': venv)",
   "name": "python3"
  },
  "language_info": {
   "codemirror_mode": {
    "name": "ipython",
    "version": 3
   },
   "file_extension": ".py",
   "mimetype": "text/x-python",
   "name": "python",
   "nbconvert_exporter": "python",
   "pygments_lexer": "ipython3",
   "version": "3.10.12"
  },
  "orig_nbformat": 4
 },
 "nbformat": 4,
 "nbformat_minor": 2
}
