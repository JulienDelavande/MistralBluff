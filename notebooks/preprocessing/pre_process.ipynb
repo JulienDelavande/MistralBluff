{
 "cells": [
  {
   "cell_type": "code",
   "execution_count": 46,
   "source": [
    "import os\n",
    "import re\n",
    "import random\n",
    "\n",
    "def separate_games(file_content):\n",
    "    games = file_content.split('Game started')\n",
    "    return ['Game started' + game for game in games if game.strip()]\n",
    "\n",
    "def remove_game_started_at(game):\n",
    "    return re.sub(r'Game started at: .*', 'Game started', game)\n",
    "\n",
    "def remove_muck(game):\n",
    "    game_lines = game.split('\\n')\n",
    "    return '\\n'.join([line for line in game_lines if 'received a card' not in line])\n",
    "\n",
    "def check_IlxxxlI_result(game):\n",
    "    for line in game.split('\\n'):\n",
    "        if line.startswith('Player IlxxxlI'):\n",
    "            if 'Wins:' in line : # Si IlxxxlI n'a rien fait c'est Wins:0\n",
    "                return 'win'\n",
    "            elif 'Loses:' in line and float(line[:-1].split('Loses:')[1]) >= 0:\n",
    "                return 'lose'\n",
    "      \n",
    "\n",
    "def remove_received_card_and_muck_lines(game):\n",
    "    game_lines = game.split('\\n')\n",
    "    return '\\n'.join([line for line in game_lines if 'received a card' not in line and 'mucks' not in line and 'timed' not in line])\n",
    "\n",
    "def remove_summary(game):\n",
    "    lines = game.split('\\n')\n",
    "    summary_start = None\n",
    "    for i, line in enumerate(lines):\n",
    "        if line.strip() == '------ Summary ------':\n",
    "            summary_start = i\n",
    "            break\n",
    "    \n",
    "    if summary_start is not None:\n",
    "        return '\\n'.join(lines[:summary_start])\n",
    "\n",
    "def process_file(input_file, output_file):\n",
    "    with open(input_file, 'r') as infile, open(output_file, 'w') as outfile:\n",
    "        file_content = infile.read()\n",
    "        games = separate_games(file_content)\n",
    "        \n",
    "        for game in games:\n",
    "            game = remove_game_started_at(game)\n",
    "            game = remove_received_card_and_muck_lines(game)\n",
    "            \n",
    "            result = check_IlxxxlI_result(game)\n",
    "            \n",
    "            if result == 'win' or (result == 'lose' and random.random() < 0.5):\n",
    "                game = remove_summary(game)\n",
    "                outfile.write(game + '\\n\\n')\n",
    "            \n",
    "\n",
    "def process_directory(input_dir, output_dir):\n",
    "    if not os.path.exists(output_dir):\n",
    "        os.makedirs(output_dir)\n",
    "\n",
    "    for filename in os.listdir(input_dir):\n",
    "        if filename.endswith('.txt'):\n",
    "            input_path = os.path.join(input_dir, filename)\n",
    "            output_path = os.path.join(output_dir, filename)\n",
    "            process_file(input_path, output_path)\n",
    "            print(f\"Processed {filename}\")\n",
    "\n",
    "input_directory = \"archive\"\n",
    "output_directory = \"archive_treated\"\n",
    "process_directory(input_directory, output_directory)"
   ],
   "outputs": [
    {
     "output_type": "stream",
     "name": "stdout",
     "text": [
      "Processed Export Holdem Manager 2.0 12292016131233.txt\n",
      "Processed Export Holdem Manager 2.0 12302016144830.txt\n"
     ]
    }
   ],
   "metadata": {}
  },
  {
   "cell_type": "code",
   "execution_count": 26,
   "source": [
    "import pandas as pd\n",
    "import re\n",
    "\n",
    "def process_game_for_training(game):\n",
    "    lines = game.split('\\n')\n",
    "    data = []\n",
    "    context = []\n",
    "\n",
    "    for line in lines:\n",
    "        line = line.strip()  \n",
    "        if not line:  # Skip lines vide\n",
    "            continue\n",
    "        \n",
    "        if line.startswith('Player IlxxxlI'):\n",
    "            if ('received card:' in line) or ('has small blind' in line) or ('has big blind' in line):\n",
    "                context.append(line)\n",
    "            else:\n",
    "                action = line.split('Player IlxxxlI ')[1]\n",
    "                if context:  # Only add data point if there's context\n",
    "                    data.append({'instruction': '\\n'.join(context), 'output': action})\n",
    "                context.append(line)  # Add this action to context for future actions\n",
    "        else:\n",
    "            context.append(line)\n",
    "\n",
    "    return data\n",
    "\n",
    "def create_training_dataset(file_path):\n",
    "    with open(file_path, 'r') as file:\n",
    "        content = file.read()\n",
    "\n",
    "    games = re.split(r'Game started\\n', content)\n",
    "    all_data = []\n",
    "\n",
    "    for game in games:\n",
    "        if game.strip():  # Ignore empty games\n",
    "            all_data.extend(process_game_for_training(game))\n",
    "\n",
    "    df = pd.DataFrame(all_data)\n",
    "    return df\n"
   ],
   "outputs": [],
   "metadata": {}
  },
  {
   "cell_type": "code",
   "execution_count": 27,
   "source": [
    "file_path1 = '/home/avakili/Mistralbluff/archive_treated/Export Holdem Manager 2.0 12292016131233.txt'\n",
    "file_path2 = '/home/avakili/Mistralbluff/archive_treated/Export Holdem Manager 2.0 12302016144830.txt'\n",
    "\n",
    "# Create datasets from both files\n",
    "training_df1 = create_training_dataset(file_path1)\n",
    "training_df2 = create_training_dataset(file_path2)\n",
    "\n",
    "# Merge the two datasets\n",
    "merged_df = pd.concat([training_df1, training_df2], ignore_index=True)\n",
    "merged_df.instruction = merged_df.instruction + \"\\nPlayer IlxxxlI\"\n",
    "merged_df['input']=\"\"\n",
    "merged_df = merged_df[['instruction', 'input', 'output']]"
   ],
   "outputs": [],
   "metadata": {}
  },
  {
   "cell_type": "code",
   "execution_count": 30,
   "source": [],
   "outputs": [],
   "metadata": {}
  },
  {
   "cell_type": "code",
   "execution_count": 39,
   "source": [
    "import numpy as np\n",
    "merged_df.head()\n",
    "folds_row = merged_df[merged_df['output']=='folds']\n",
    "print('proportion de folds:', len(folds_row)/len(merged_df))\n",
    "nb_remove= len(folds_row)//5\n",
    "indicies_to_remove=np.random.choice(folds_row.index, size=nb_remove, replace=False)\n",
    "new_df = merged_df.drop(indicies_to_remove) #dataframe avec nombre de fold réduit\n",
    "folds_row = new_df[new_df['output']=='folds']\n",
    "print('proportion de folds nouveaux dataset:', len(folds_row)/len(merged_df))"
   ],
   "outputs": [
    {
     "output_type": "stream",
     "name": "stdout",
     "text": [
      "proportion de folds: 0.8786018360313921\n",
      "proportion de folds: 0.7029046364136573\n"
     ]
    }
   ],
   "metadata": {}
  },
  {
   "cell_type": "code",
   "execution_count": 10,
   "source": [
    "set([re.sub(r'\\d','',action) for action in list(merged_df.output.value_counts().index)])\n",
    "#Compte le nbr d'action unique"
   ],
   "outputs": [
    {
     "output_type": "execute_result",
     "data": {
      "text/plain": [
       "{'allin ()',\n",
       " 'allin (.)',\n",
       " 'bets ()',\n",
       " 'bets (.)',\n",
       " 'calls ()',\n",
       " 'calls (.)',\n",
       " 'caps ()',\n",
       " 'caps (.)',\n",
       " 'checks',\n",
       " 'folds',\n",
       " 'raises ()',\n",
       " 'raises (.)'}"
      ]
     },
     "metadata": {},
     "execution_count": 10
    }
   ],
   "metadata": {}
  },
  {
   "cell_type": "code",
   "execution_count": 40,
   "source": [
    "merged_df.head()"
   ],
   "outputs": [
    {
     "output_type": "execute_result",
     "data": {
      "text/html": [
       "<div>\n",
       "<style scoped>\n",
       "    .dataframe tbody tr th:only-of-type {\n",
       "        vertical-align: middle;\n",
       "    }\n",
       "\n",
       "    .dataframe tbody tr th {\n",
       "        vertical-align: top;\n",
       "    }\n",
       "\n",
       "    .dataframe thead th {\n",
       "        text-align: right;\n",
       "    }\n",
       "</style>\n",
       "<table border=\"1\" class=\"dataframe\">\n",
       "  <thead>\n",
       "    <tr style=\"text-align: right;\">\n",
       "      <th></th>\n",
       "      <th>instruction</th>\n",
       "      <th>input</th>\n",
       "      <th>output</th>\n",
       "    </tr>\n",
       "  </thead>\n",
       "  <tbody>\n",
       "    <tr>\n",
       "      <th>0</th>\n",
       "      <td>Game ID: 787027613 0.50/1 (PRR) Karkadann (Hol...</td>\n",
       "      <td></td>\n",
       "      <td>folds</td>\n",
       "    </tr>\n",
       "    <tr>\n",
       "      <th>1</th>\n",
       "      <td>Game ID: 787027929 0.50/1 (PRR) Karkadann (Hol...</td>\n",
       "      <td></td>\n",
       "      <td>folds</td>\n",
       "    </tr>\n",
       "    <tr>\n",
       "      <th>2</th>\n",
       "      <td>Game ID: 787027464 0.50/1 (PRR) Karkadann (Hol...</td>\n",
       "      <td></td>\n",
       "      <td>folds</td>\n",
       "    </tr>\n",
       "    <tr>\n",
       "      <th>3</th>\n",
       "      <td>Game ID: 787027410 0.50/1 (PRR) Kraken - 10 (H...</td>\n",
       "      <td></td>\n",
       "      <td>folds</td>\n",
       "    </tr>\n",
       "    <tr>\n",
       "      <th>4</th>\n",
       "      <td>Game ID: 787027157 0.50/1 (PRR) Kraken - 10 (H...</td>\n",
       "      <td></td>\n",
       "      <td>folds</td>\n",
       "    </tr>\n",
       "  </tbody>\n",
       "</table>\n",
       "</div>"
      ],
      "text/plain": [
       "                                         instruction input output\n",
       "0  Game ID: 787027613 0.50/1 (PRR) Karkadann (Hol...        folds\n",
       "1  Game ID: 787027929 0.50/1 (PRR) Karkadann (Hol...        folds\n",
       "2  Game ID: 787027464 0.50/1 (PRR) Karkadann (Hol...        folds\n",
       "3  Game ID: 787027410 0.50/1 (PRR) Kraken - 10 (H...        folds\n",
       "4  Game ID: 787027157 0.50/1 (PRR) Kraken - 10 (H...        folds"
      ]
     },
     "metadata": {},
     "execution_count": 40
    }
   ],
   "metadata": {}
  },
  {
   "cell_type": "code",
   "execution_count": 41,
   "source": [
    "from sklearn.model_selection import train_test_split\n",
    "import pandas as pd\n",
    "\n",
    "train, test = train_test_split(merged_df, test_size=0.1, random_state=0)\n",
    "train.to_json('data/anatole_data_train.json', orient='records')\n",
    "test.to_json('data/anatole_data_test.json', orient='records')"
   ],
   "outputs": [],
   "metadata": {}
  },
  {
   "cell_type": "code",
   "execution_count": 47,
   "source": [
    "from transformers import AutoTokenizer\n",
    "\n",
    "tokenizer = AutoTokenizer.from_pretrained('mistralai/Mistral-7b-v0.1')\n",
    "with open('/home/avakili/Mistralbluff/data/anatole_data_train.json', 'r') as file:\n",
    "    text = file.read()\n",
    "tokens = tokenizer.tokenize(text)\n",
    "\n",
    "\n"
   ],
   "outputs": [],
   "metadata": {}
  }
 ],
 "metadata": {
  "orig_nbformat": 4,
  "language_info": {
   "name": "python",
   "version": "3.10.12",
   "mimetype": "text/x-python",
   "codemirror_mode": {
    "name": "ipython",
    "version": 3
   },
   "pygments_lexer": "ipython3",
   "nbconvert_exporter": "python",
   "file_extension": ".py"
  },
  "kernelspec": {
   "name": "python3",
   "display_name": "Python 3.10.12 64-bit ('ftvenv': venv)"
  },
  "interpreter": {
   "hash": "3dbe04c315dc24a506ed5629daf86b451f96d7ba3cfffb13997a818bebceb567"
  }
 },
 "nbformat": 4,
 "nbformat_minor": 2
}