{
 "cells": [
  {
   "cell_type": "markdown",
   "metadata": {},
   "source": [
    "# PreProcess 1 file "
   ]
  },
  {
   "cell_type": "code",
   "execution_count": 32,
   "metadata": {},
   "outputs": [
    {
     "name": "stdout",
     "output_type": "stream",
     "text": [
      "File204.txt 394\n",
      "File199.txt 122\n",
      "File198.txt 150\n",
      "File201.txt 73\n",
      "File200.txt 109\n",
      "Export Holdem Manager 2.0 12302016144830.txt 17307\n",
      "File203.txt 285\n",
      "File196.txt 122\n",
      "Export Holdem Manager 2.0 12292016131233.txt 850\n",
      "Total wins of IlxxxlI: 25303.470000000354\n",
      "Total losses of IlxxxlI: 19029.1700000005\n",
      "Total games of IlxxxlI: 19412\n"
     ]
    }
   ],
   "source": [
    "import os\n",
    "import re\n",
    "\n",
    "\n",
    "directory_path = 'data/archive'\n",
    "\n",
    "# Compile the regex pattern to extract wins or losses for IlxxxlI\n",
    "pattern = re.compile(r\"Player IlxxxlI.*?(Wins|Loses): (\\d+\\.\\d+)\")\n",
    "\n",
    "# Initialize total wins and losses\n",
    "total_wins = 0.0\n",
    "total_losses = 0.0\n",
    "hand_played=0\n",
    "\n",
    "# Iterate through all files in the directory\n",
    "for filename in os.listdir(directory_path):\n",
    "    \n",
    "    file_path = os.path.join(directory_path, filename)\n",
    "    if os.path.isfile(file_path):\n",
    "        # Read the log data from the file\n",
    "        with open(file_path, 'r') as file:\n",
    "            log_data = file.read()\n",
    "        \n",
    "        # Find all matches of the pattern in the log data\n",
    "        matches = pattern.findall(log_data)\n",
    "        hand_played= hand_played+len(matches)\n",
    "        print(filename,len(matches))\n",
    "        \n",
    "        # Sum up the wins and losses\n",
    "        for match in matches:\n",
    "            action, amount = match\n",
    "            amount = float(amount)\n",
    "            if action == 'Wins':\n",
    "                total_wins += amount\n",
    "            elif action == 'Loses':\n",
    "                total_losses += amount\n",
    "    \n",
    "\n",
    "# Output the total wins and losses\n",
    "print(f\"Total wins of IlxxxlI: {total_wins}\")\n",
    "print(f\"Total losses of IlxxxlI: {total_losses}\")\n",
    "print(f\"Total games of IlxxxlI: {hand_played}\")\n"
   ]
  },
  {
   "cell_type": "code",
   "execution_count": 23,
   "metadata": {},
   "outputs": [
    {
     "name": "stdout",
     "output_type": "stream",
     "text": [
      "Total number of games: 52156\n"
     ]
    }
   ],
   "source": [
    "pattern = re.compile(r\"Game started at\")\n",
    "\n",
    "# Initialize the game count\n",
    "total_games = 0\n",
    "\n",
    "# Iterate through all files in the directory\n",
    "for filename in os.listdir(directory_path):\n",
    "    file_path = os.path.join(directory_path, filename)\n",
    "    if os.path.isfile(file_path):\n",
    "        # Read the log data from the file\n",
    "        with open(file_path, 'r') as file:\n",
    "            log_data = file.read()\n",
    "        \n",
    "        # Count the occurrences of the pattern in the log data\n",
    "        games_in_file = len(pattern.findall(log_data))\n",
    "        total_games += games_in_file\n",
    "\n",
    "# Output the total number of games\n",
    "print(f\"Total number of games: {total_games}\")"
   ]
  },
  {
   "cell_type": "code",
   "execution_count": 33,
   "metadata": {},
   "outputs": [],
   "source": [
    "# Compile the regex pattern to match lines ending with \"received a card.\"\n",
    "path = 'data/archive'\n",
    "pattern = re.compile(r\".*received a card\\.\\n\")\n",
    "\n",
    "# Iterate through all files in the directory\n",
    "for filename in os.listdir(directory_path):\n",
    "    file_path = os.path.join(directory_path, filename)\n",
    "    if os.path.isfile(file_path):\n",
    "        # Read the log data from the file\n",
    "        with open(file_path, 'r') as file:\n",
    "            log_data = file.readlines()\n",
    "        \n",
    "        # Filter out lines that match the pattern\n",
    "        cleaned_data = [line for line in log_data if not pattern.match(line)]\n",
    "        \n",
    "        # Write the cleaned data back to the file\n",
    "        with open(file_path, 'w') as file:\n",
    "            file.writelines(cleaned_data)"
   ]
  },
  {
   "cell_type": "code",
   "execution_count": 36,
   "metadata": {},
   "outputs": [
    {
     "name": "stdout",
     "output_type": "stream",
     "text": [
      "Modified all lines to keep only 'Game started'.\n"
     ]
    }
   ],
   "source": [
    "import os\n",
    "import re\n",
    "\n",
    "# Directory containing the log files\n",
    "directory_path = 'data/archive'\n",
    "\n",
    "# Compile the regex pattern to match and replace the \"Game started at\" line\n",
    "pattern = re.compile(r\"Game started at: .*\")\n",
    "\n",
    "# Iterate through all files in the directory\n",
    "for filename in os.listdir(directory_path):\n",
    "    file_path = os.path.join(directory_path, filename)\n",
    "    if os.path.isfile(file_path):\n",
    "        # Read the log data from the file\n",
    "        with open(file_path, 'r') as file:\n",
    "            log_data = file.readlines()\n",
    "        \n",
    "        # Process each line and modify if necessary\n",
    "        modified_data = []\n",
    "        for line in log_data:\n",
    "            modified_line = pattern.sub(\"Game started\", line)\n",
    "            modified_data.append(modified_line)\n",
    "        \n",
    "        # Write the modified data back to the same file\n",
    "        with open(file_path, 'w') as file:\n",
    "            file.writelines(modified_data)\n",
    "\n",
    "print(\"Modified all lines to keep only 'Game started'.\")\n"
   ]
  },
  {
   "cell_type": "code",
   "execution_count": 44,
   "metadata": {},
   "outputs": [
    {
     "name": "stdout",
     "output_type": "stream",
     "text": [
      "Filtered games where player IlxxxlI does not lose money.\n"
     ]
    }
   ],
   "source": [
    "import os\n",
    "import re\n",
    "\n",
    "# Directory containing the log files\n",
    "directory_path = 'data/archive'\n",
    "\n",
    "# Regex patterns to identify game boundaries and summaries\n",
    "game_start_pattern = re.compile(r\"Game started\")\n",
    "summary_start_pattern = re.compile(r\"------ Summary ------\")\n",
    "summary_end_pattern = re.compile(r\"Game ended at:.*\")\n",
    "\n",
    "# Function to check if IlxxxlI lost money in the summary\n",
    "def player_lost_in_summary(summary):\n",
    "    lose_pattern = re.compile(r\"Player IlxxxlI.*Loses:\")\n",
    "    return lose_pattern.search(summary) is not None\n",
    "\n",
    "# Iterate through all files in the directory\n",
    "for filename in os.listdir(directory_path):\n",
    "    file_path = os.path.join(directory_path, filename)\n",
    "    if os.path.isfile(file_path):\n",
    "        # Read the log data from the file\n",
    "        with open(file_path, 'r') as file:\n",
    "            log_data = file.read()\n",
    "        \n",
    "        # Split the log data into individual games\n",
    "        games = re.split(game_start_pattern, log_data)\n",
    "        \n",
    "        # The first element will be empty if the file starts with \"Game started at:\", so we discard it\n",
    "        if not games[0].strip():\n",
    "            games = games[1:]\n",
    "        \n",
    "        # Filter the games\n",
    "        filtered_games = []\n",
    "        for game in games:\n",
    "            game_content = \"Game started:\" + game\n",
    "            summary_start = summary_start_pattern.search(game_content)\n",
    "            if summary_start:\n",
    "                if not player_lost_in_summary(game_content):\n",
    "                    filtered_games.append(game_content)\n",
    "        \n",
    "        # Write the filtered games back to the same file\n",
    "        with open(file_path+'test', 'w') as file:\n",
    "            file.writelines(filtered_games)\n",
    "\n",
    "print(\"Filtered games where player IlxxxlI does not lose money.\")\n"
   ]
  },
  {
   "cell_type": "code",
   "execution_count": 43,
   "metadata": {},
   "outputs": [
    {
     "name": "stdout",
     "output_type": "stream",
     "text": [
      "Player names have been replaced according to their seat numbers and 'IlxxxlI' has been renamed to 'You'.\n"
     ]
    }
   ],
   "source": [
    "import os\n",
    "import re\n",
    "\n",
    "# Directory containing the log files\n",
    "directory_path = 'data/treated'\n",
    "\n",
    "# Compile regex patterns to match seat lines and player names in actions\n",
    "seat_pattern = re.compile(r\"Seat (\\d+): (\\w+) \\(([\\d\\.]+)\\)\\.\")\n",
    "action_pattern = re.compile(r\"Player (\\w+)\")\n",
    "\n",
    "# Function to replace player names according to seat numbers\n",
    "def replace_player_names(text):\n",
    "    # Find all seat assignments\n",
    "    seats = seat_pattern.findall(text)\n",
    "    name_map = {}\n",
    "    for seat in seats:\n",
    "        seat_number, player_name, balance = seat\n",
    "        if player_name == \"IlxxxlI\":\n",
    "            name_map[player_name] = \"You\"\n",
    "        else:\n",
    "            name_map[player_name] = f\"Player {seat_number}\"\n",
    "    \n",
    "    # Replace names in seat assignments\n",
    "    for player_name, new_name in name_map.items():\n",
    "        text = re.sub(rf\"Seat (\\d+): {player_name} \\(([\\d\\.]+)\\)\\.\", rf\"Seat \\1: {new_name} (\\2).\", text)\n",
    "    \n",
    "    # Replace names in actions\n",
    "    def replace_action(match):\n",
    "        player_name = match.group(1)\n",
    "        return f\"Player {name_map.get(player_name, player_name)}\"\n",
    "    \n",
    "    text = action_pattern.sub(replace_action, text)\n",
    "    \n",
    "    return text\n",
    "\n",
    "# Iterate through all files in the directory\n",
    "for filename in os.listdir(directory_path):\n",
    "    file_path = os.path.join(directory_path, filename)\n",
    "    if os.path.isfile(file_path):\n",
    "        # Read the log data from the file\n",
    "        with open(file_path, 'r') as file:\n",
    "            log_data = file.read()\n",
    "        \n",
    "        # Replace player names\n",
    "        modified_data = replace_player_names(log_data)\n",
    "        \n",
    "        # Write the modified data back to the same file\n",
    "        with open(file_path, 'w') as file:\n",
    "            file.write(modified_data)\n",
    "\n",
    "print(\"Player names have been replaced according to their seat numbers and 'IlxxxlI' has been renamed to 'You'.\")\n"
   ]
  },
  {
   "cell_type": "code",
   "execution_count": 50,
   "metadata": {},
   "outputs": [
    {
     "name": "stdout",
     "output_type": "stream",
     "text": [
      "Dataset created and saved to poker_dataset.csv\n"
     ]
    }
   ],
   "source": [
    "import os\n",
    "import re\n",
    "import pandas as pd\n",
    "\n",
    "# Directory containing the log files\n",
    "directory_path = 'data/treated'\n",
    "\n",
    "# Compile the regex patterns\n",
    "game_start_pattern = re.compile(r\"Game started:\")\n",
    "player_action_pattern = re.compile(r\"Player IlxxxlI (folds|calls|raises) ?\\(?(\\d*\\.\\d*)\\)?\")\n",
    "summary_start_pattern = re.compile(r\"------ Summary ------\")\n",
    "\n",
    "# Initialize lists to hold the instruction and output data\n",
    "instructions = []\n",
    "outputs = []\n",
    "\n",
    "# Function to extract hand history and action for IlxxxlI\n",
    "def extract_hand_history_and_action(log_data):\n",
    "    games = re.split(game_start_pattern, log_data)\n",
    "    \n",
    "    # The first element will be empty if the file starts with \"Game started:\", so we discard it\n",
    "    if not games[0].strip():\n",
    "        games = games[1:]\n",
    "    \n",
    "    for game in games:\n",
    "        game_content = \"Game started:\" + game\n",
    "        actions = []\n",
    "        ilxxxlI_action = None\n",
    "        hand_history = []\n",
    "        \n",
    "        # Split the game content into lines\n",
    "        lines = game_content.split('\\n')\n",
    "        for line in lines:\n",
    "            if summary_start_pattern.search(line):\n",
    "                break  # Stop at the summary section\n",
    "            hand_history.append(line)\n",
    "            action_match = player_action_pattern.search(line)\n",
    "            if action_match:\n",
    "                ilxxxlI_action = action_match.group()\n",
    "                actions.append(ilxxxlI_action)\n",
    "        \n",
    "        if ilxxxlI_action:\n",
    "            # Join the hand history up to the last action\n",
    "            instruction = '\\n'.join(hand_history)\n",
    "            # Extract the last action\n",
    "            output = actions[-1]\n",
    "            instructions.append(instruction)\n",
    "            outputs.append(output)\n",
    "\n",
    "# Iterate through all files in the directory\n",
    "for filename in os.listdir(directory_path):\n",
    "    file_path = os.path.join(directory_path, filename)\n",
    "    if os.path.isfile(file_path):\n",
    "        # Read the log data from the file\n",
    "        with open(file_path, 'r') as file:\n",
    "            log_data = file.read()\n",
    "        # Extract hand history and action\n",
    "        extract_hand_history_and_action(log_data)\n",
    "\n",
    "# Create a DataFrame with the instructions and outputs\n",
    "df = pd.DataFrame({\n",
    "    'instruction': instructions,\n",
    "    'input': '',\n",
    "    'output': outputs\n",
    "})\n",
    "\n",
    "# Save the DataFrame to a CSV file\n",
    "df.to_csv('poker_dataset.csv', index=False)\n",
    "\n",
    "print(\"Dataset created and saved to poker_dataset.csv\")\n"
   ]
  },
  {
   "cell_type": "code",
   "execution_count": 58,
   "metadata": {},
   "outputs": [
    {
     "name": "stdout",
     "output_type": "stream",
     "text": [
      "Dataset created and saved to poker_dataset.csv\n"
     ]
    }
   ],
   "source": [
    "import os\n",
    "import re\n",
    "import pandas as pd\n",
    "\n",
    "# Directory containing the log files\n",
    "directory_path = 'data/treated'\n",
    "\n",
    "# Compile the regex patterns\n",
    "game_start_pattern = re.compile(r\"Game started:\")\n",
    "player_action_pattern = re.compile(r\"Player IlxxxlI (folds|calls|raises(?: \\((\\d+\\.\\d+|\\d+)\\))?)\")\n",
    "summary_start_pattern = re.compile(r\"------ Summary ------\")\n",
    "\n",
    "# Initialize lists to hold the instruction and output data\n",
    "instructions = []\n",
    "outputs = []\n",
    "\n",
    "# Function to extract hand history and actions for IlxxxlI\n",
    "def extract_hand_history_and_actions(log_data):\n",
    "    games = re.split(game_start_pattern, log_data)\n",
    "    \n",
    "    # The first element will be empty if the file starts with \"Game started:\", so we discard it\n",
    "    if not games[0].strip():\n",
    "        games = games[1:]\n",
    "    \n",
    "    for game in games:\n",
    "        game_content = \"Game started:\" + game\n",
    "        hand_history = []\n",
    "        \n",
    "        # Split the game content into lines\n",
    "        lines = game_content.split('\\n')\n",
    "        for line in lines:\n",
    "            if summary_start_pattern.search(line):\n",
    "                break  # Stop at the summary section\n",
    "            hand_history.append(line)\n",
    "            action_match = player_action_pattern.search(line)\n",
    "            if action_match:\n",
    "                # Join the hand history up to the current action\n",
    "                instruction = '\\n'.join(hand_history[:-1])\n",
    "                # Extract the action\n",
    "                output = action_match.group()\n",
    "                instructions.append(instruction)\n",
    "                outputs.append(output)\n",
    "\n",
    "# Iterate through all files in the directory\n",
    "for filename in os.listdir(directory_path):\n",
    "    file_path = os.path.join(directory_path, filename)\n",
    "    if os.path.isfile(file_path):\n",
    "        # Read the log data from the file\n",
    "        with open(file_path, 'r') as file:\n",
    "            log_data = file.read()\n",
    "        # Extract hand history and actions\n",
    "        extract_hand_history_and_actions(log_data)\n",
    "\n",
    "# Create a DataFrame with the instructions and outputs\n",
    "df = pd.DataFrame({\n",
    "    'instruction': instructions,\n",
    "    'input':\"\",\n",
    "    'output': outputs\n",
    "})\n",
    "\n",
    "# Save the DataFrame to a CSV file\n",
    "df.to_csv('poker_dataset.csv', index=False)\n",
    "\n",
    "print(\"Dataset created and saved to poker_dataset.csv\")\n"
   ]
  },
  {
   "cell_type": "code",
   "execution_count": 59,
   "metadata": {},
   "outputs": [
    {
     "data": {
      "text/plain": [
       "29914"
      ]
     },
     "execution_count": 59,
     "metadata": {},
     "output_type": "execute_result"
    }
   ],
   "source": [
    "len(df)"
   ]
  },
  {
   "cell_type": "code",
   "execution_count": null,
   "metadata": {},
   "outputs": [],
   "source": []
  }
 ],
 "metadata": {
  "kernelspec": {
   "display_name": "env",
   "language": "python",
   "name": "python3"
  },
  "language_info": {
   "codemirror_mode": {
    "name": "ipython",
    "version": 3
   },
   "file_extension": ".py",
   "mimetype": "text/x-python",
   "name": "python",
   "nbconvert_exporter": "python",
   "pygments_lexer": "ipython3",
   "version": "3.10.12"
  }
 },
 "nbformat": 4,
 "nbformat_minor": 2
}
