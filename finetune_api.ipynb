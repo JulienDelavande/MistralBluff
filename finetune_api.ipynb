{
 "cells": [
  {
   "cell_type": "code",
   "execution_count": 10,
   "metadata": {},
   "outputs": [],
   "source": [
    "import pandas as pd\n",
    "import json\n",
    "\n",
    "df = pd.read_json(\"anatole_data_train.json\")\n",
    "df_train=df.sample(frac=0.95,random_state=0)\n",
    "df_eval=df.drop(df_train.index)\n",
    "\n",
    "df_formatted = [\n",
    "    {\n",
    "        \"messages\": [\n",
    "            {\"role\": \"user\", \"content\": row[\"instruction\"]},\n",
    "            {\"role\": \"assistant\", \"content\": row[\"output\"]},\n",
    "        ]\n",
    "    }\n",
    "    for index, row in df_train.iterrows()\n",
    "]\n",
    "\n",
    "df_formatted2 = [\n",
    "    {\n",
    "        \"messages\": [\n",
    "            {\"role\": \"user\", \"content\": row[\"instruction\"]},\n",
    "            {\"role\": \"assistant\", \"content\": row[\"output\"]},\n",
    "        ]\n",
    "    }\n",
    "    for index, row in df_eval.iterrows()\n",
    "]\n",
    "\n",
    "with open(\"data_train.jsonl\", \"w\") as f:\n",
    "    for line in df_formatted:\n",
    "        json.dump(line, f)\n",
    "        f.write(\"\\n\")\n",
    "with open(\"data_eval.jsonl\", \"w\") as f:\n",
    "    for line in df_formatted2:\n",
    "        json.dump(line, f)\n",
    "        f.write(\"\\n\")"
   ]
  },
  {
   "cell_type": "code",
   "execution_count": 29,
   "metadata": {},
   "outputs": [
    {
     "data": {
      "text/plain": [
       "31077"
      ]
     },
     "execution_count": 29,
     "metadata": {},
     "output_type": "execute_result"
    }
   ],
   "source": [
    "len(df)"
   ]
  },
  {
   "cell_type": "code",
   "execution_count": 13,
   "metadata": {},
   "outputs": [],
   "source": [
    "import os\n",
    "from mistralai.client import MistralClient\n",
    "os.environ['MISTRAL_API_KEY']='ymjotzDIdJxKj611QnrKt70VEJsHtyGm'\n",
    "api_key = os.environ.get(\"MISTRAL_API_KEY\")\n",
    "client = MistralClient(api_key=api_key)\n",
    "\n",
    "with open(\"data_train.jsonl\", \"rb\") as f:\n",
    "    data_train = client.files.create(file=(\"data_train.jsonl\", f))\n",
    "with open(\"data_eval.jsonl\", \"rb\") as f:\n",
    "    data_eval = client.files.create(file=(\"data_eval.jsonl\", f))"
   ]
  },
  {
   "cell_type": "code",
   "execution_count": 35,
   "metadata": {},
   "outputs": [
    {
     "data": {
      "text/plain": [
       "Job(id='2cad6ef8-34b8-4e20-9431-db9ccccb0f1d', hyperparameters=TrainingParameters(training_steps=180, learning_rate=0.0001), fine_tuned_model=None, model='open-mistral-7b', status='QUEUED', job_type='FT', created_at=1719433586, modified_at=1719433586, training_files=['5cd53dbf-4f32-45e6-9b15-0c69b05b2cc6'], validation_files=['ff6b09ef-e7ba-4c1f-8a25-a35681ef8c93'], object='job', integrations=[])"
      ]
     },
     "execution_count": 35,
     "metadata": {},
     "output_type": "execute_result"
    }
   ],
   "source": [
    "from mistralai.models.jobs import TrainingParameters\n",
    "\n",
    "created_jobs = client.jobs.create(\n",
    "    model=\"open-mistral-7b\",\n",
    "    training_files=[data_train.id],\n",
    "    validation_files=[data_eval.id],\n",
    "    hyperparameters=TrainingParameters(\n",
    "        training_steps=1,\n",
    "        learning_rate=0.0001,\n",
    "        )\n",
    ")\n",
    "created_jobs"
   ]
  },
  {
   "cell_type": "code",
   "execution_count": 34,
   "metadata": {},
   "outputs": [
    {
     "name": "stdout",
     "output_type": "stream",
     "text": [
      "object='job.metadata' training_steps=180 train_tokens_per_step=131072 data_tokens=4455124 train_tokens=23592960 epochs=5.2957 expected_duration_seconds=1080\n"
     ]
    }
   ],
   "source": [
    "from mistralai.models.jobs import TrainingParameters\n",
    "\n",
    "\n",
    "dry_run_job = client.jobs.create(\n",
    "    model=\"open-mistral-7b\",\n",
    "    training_files=[data_train.id],\n",
    "    validation_files=[data_eval.id],\n",
    "    hyperparameters=TrainingParameters(\n",
    "        training_steps=180,\n",
    "        learning_rate=0.0002,\n",
    "    ),\n",
    "    dry_run=True,\n",
    ")\n",
    "print(dry_run_job)\n"
   ]
  },
  {
   "cell_type": "code",
   "execution_count": 48,
   "metadata": {},
   "outputs": [],
   "source": [
    "retrieved_jobs = client.jobs.retrieve(created_jobs.id)\n"
   ]
  },
  {
   "cell_type": "code",
   "execution_count": 49,
   "metadata": {},
   "outputs": [
    {
     "name": "stdout",
     "output_type": "stream",
     "text": [
      "id='2cad6ef8-34b8-4e20-9431-db9ccccb0f1d' hyperparameters=TrainingParameters(training_steps=180, learning_rate=0.0001) fine_tuned_model='ft:open-mistral-7b:c6d4dfa8:20240626:2cad6ef8' model='open-mistral-7b' status='SUCCESS' job_type='FT' created_at=1719433586 modified_at=1719434336 training_files=['5cd53dbf-4f32-45e6-9b15-0c69b05b2cc6'] validation_files=['ff6b09ef-e7ba-4c1f-8a25-a35681ef8c93'] object='job' integrations=[] events=[Event(name='status-updated', data={'status': 'SUCCESS'}, created_at=1719434336), Event(name='status-updated', data={'status': 'RUNNING'}, created_at=1719433587), Event(name='status-updated', data={'status': 'QUEUED'}, created_at=1719433586)] checkpoints=[Checkpoint(metrics=Metric(train_loss=0.0853, valid_loss=0.094045, valid_mean_token_accuracy=1.067359), step_number=180, created_at=1719434303), Checkpoint(metrics=Metric(train_loss=0.091283, valid_loss=0.094337, valid_mean_token_accuracy=1.067575), step_number=144, created_at=1719434160), Checkpoint(metrics=Metric(train_loss=0.082293, valid_loss=0.10383, valid_mean_token_accuracy=1.074622), step_number=108, created_at=1719434024), Checkpoint(metrics=Metric(train_loss=0.106545, valid_loss=0.119471, valid_mean_token_accuracy=1.086337), step_number=72, created_at=1719433881), Checkpoint(metrics=Metric(train_loss=0.16553, valid_loss=0.143524, valid_mean_token_accuracy=1.1046), step_number=36, created_at=1719433741)] estimated_start_time=None\n"
     ]
    }
   ],
   "source": [
    "print(retrieved_jobs)"
   ]
  },
  {
   "cell_type": "code",
   "execution_count": null,
   "metadata": {},
   "outputs": [],
   "source": []
  }
 ],
 "metadata": {
  "kernelspec": {
   "display_name": "env",
   "language": "python",
   "name": "python3"
  },
  "language_info": {
   "codemirror_mode": {
    "name": "ipython",
    "version": 3
   },
   "file_extension": ".py",
   "mimetype": "text/x-python",
   "name": "python",
   "nbconvert_exporter": "python",
   "pygments_lexer": "ipython3",
   "version": "3.10.12"
  }
 },
 "nbformat": 4,
 "nbformat_minor": 2
}
